{
 "cells": [
  {
   "cell_type": "markdown",
   "id": "0f645a54-d0e6-4145-8167-de40de9d428a",
   "metadata": {},
   "source": [
    "### Lab code:"
   ]
  },
  {
   "cell_type": "code",
   "execution_count": 1,
   "id": "77c57d5b-2dda-4870-8bc5-db5a28303943",
   "metadata": {},
   "outputs": [],
   "source": [
    "from labCode import Node\n",
    "from labCode import Graph"
   ]
  },
  {
   "cell_type": "markdown",
   "id": "d86e6d56-c826-4944-96a1-ca510948d2f1",
   "metadata": {},
   "source": [
    "### Bidirectional search:"
   ]
  },
  {
   "cell_type": "code",
   "execution_count": 2,
   "id": "658592c8-a67a-4e22-bfb4-8d948b94a4a7",
   "metadata": {},
   "outputs": [],
   "source": [
    "def BDS(G, s, d):\n",
    "    #declare two layers for source search and destination search\n",
    "    Ls0 = [s]\n",
    "    Ls1 = [d]\n",
    "\n",
    "    #set source and destination node status\n",
    "    s.status = \"visited0\"\n",
    "    d.status = \"visited1\"\n",
    "\n",
    "    #dicts for storing paths of search\n",
    "    sourcePath = dict()\n",
    "    destinationPath = dict()\n",
    "    sourcePath = {s: [s]}\n",
    "    destinationPath = {d: [d]}\n",
    "\n",
    "    #continue while initial layers\n",
    "    while Ls0 and Ls1:\n",
    "\n",
    "        #declare next layer in source search\n",
    "        sourceSuperLayer = list()\n",
    "        for u in Ls0:            \n",
    "            #examine all neighbours of u\n",
    "            for v in u.getOutNeighbors():\n",
    "                \n",
    "                #mark node as visited by source search\n",
    "                if v.status == \"unvisited\":\n",
    "                    v.status = \"visited0\"\n",
    "                    \n",
    "                    #amend path from source\n",
    "                    sourcePath[v] = sourcePath[u] + [v]\n",
    "                    sourceSuperLayer.append(v)\n",
    "\n",
    "                #if current node appears in destination search path, path must exist, return joined paths \n",
    "                if v.status == \"visited1\" and v in destinationPath:\n",
    "                    print(\"Path available:\")\n",
    "                    return sourcePath[u] + destinationPath[v][::-1]\n",
    "                    \n",
    "        #declare next layer in destination search\n",
    "        destinationSuperLayer = list()\n",
    "        for u in Ls1:\n",
    "            #examine all neighbours of u\n",
    "            for v in u.getOutNeighbors():\n",
    "                \n",
    "                #mark node as visited by destination search\n",
    "                if v.status == \"unvisited\":\n",
    "                    v.status = \"visited1\"\n",
    "                    \n",
    "                    #amend path from destination\n",
    "                    destinationPath[v] = destinationPath[u] + [v]\n",
    "                    destinationSuperLayer.append(v)\n",
    "                    \n",
    "                #if current node appears in destination search path, path must exist, return joined paths \n",
    "                if v.status == \"visited1\" and v in sourcePath:\n",
    "                    print(\"Path available:\")\n",
    "                    return sourcePath[u] + destinationPath[v][::-1]\n",
    "\n",
    "        #flip layers \n",
    "        Ls0 = sourceSuperLayer\n",
    "        Ls1 = destinationSuperLayer\n",
    "\n",
    "    return \"No path available\""
   ]
  },
  {
   "cell_type": "markdown",
   "id": "50caaf5e-1da5-4f0d-8739-ed2277aa2425",
   "metadata": {},
   "source": [
    "### Test cases:"
   ]
  },
  {
   "cell_type": "code",
   "execution_count": 3,
   "id": "d24175cd-2661-431e-8e9d-e8c7fe3cd2c5",
   "metadata": {},
   "outputs": [],
   "source": [
    "cities = ['Melbourne', 'Sydney', 'Brisbane', 'Perth', 'Darwin', \n",
    "          'GoldCoast', 'PortDouglas', 'Cairns', 'Adelaide', 'Hobart']"
   ]
  },
  {
   "cell_type": "code",
   "execution_count": 4,
   "id": "f6ebc70c-4c8c-4263-ac9a-4f6a43393bb1",
   "metadata": {},
   "outputs": [],
   "source": [
    "G0 = Graph()\n",
    "for i in cities:\n",
    "    G0.addVertex( Node(i) )\n",
    "\n",
    "V = G0.vertices\n",
    "\n",
    "G0.addBiEdge( V[0], V[1] )\n",
    "G0.addBiEdge( V[0], V[2] )\n",
    "G0.addBiEdge( V[1], V[3] )\n",
    "G0.addBiEdge( V[3], V[4] )\n",
    "G0.addBiEdge( V[4], V[5] )\n",
    "G0.addBiEdge( V[4], V[6] )\n",
    "G0.addBiEdge( V[6], V[7] )\n",
    "G0.addBiEdge( V[6], V[8] )\n",
    "G0.addBiEdge( V[8], V[9] )\n",
    "G0.addBiEdge( V[4], V[9] )"
   ]
  },
  {
   "cell_type": "code",
   "execution_count": 5,
   "id": "6a842f2f-a402-48c1-a5f8-dc833ab9cefd",
   "metadata": {},
   "outputs": [],
   "source": [
    "G1 = Graph()\n",
    "for i in cities:\n",
    "    G1.addVertex( Node(i) )\n",
    "\n",
    "V = G1.vertices\n",
    "\n",
    "G1.addBiEdge( V[0], V[1] )\n",
    "G1.addBiEdge( V[0], V[5] )\n",
    "G1.addBiEdge( V[0], V[6] )\n",
    "G1.addBiEdge( V[1], V[2] )\n",
    "G1.addBiEdge( V[2], V[5] )\n",
    "G1.addBiEdge( V[2], V[7] )\n",
    "G1.addBiEdge( V[3], V[6] )\n",
    "G1.addBiEdge( V[3], V[8] )\n",
    "G1.addBiEdge( V[3], V[9] )\n",
    "G1.addBiEdge( V[4], V[9] )"
   ]
  },
  {
   "cell_type": "code",
   "execution_count": 6,
   "id": "03c41b19-5e3d-4382-8a54-67ee089f3f61",
   "metadata": {},
   "outputs": [],
   "source": [
    "G2 = Graph()\n",
    "for i in cities:\n",
    "    G2.addVertex( Node(i) )\n",
    "\n",
    "V = G2.vertices\n",
    "\n",
    "G2.addBiEdge( V[0], V[1] )\n",
    "G2.addBiEdge( V[0], V[3] )\n",
    "G2.addBiEdge( V[0], V[4] )\n",
    "G2.addBiEdge( V[1], V[3] )\n",
    "G2.addBiEdge( V[2], V[3] )\n",
    "G2.addBiEdge( V[5], V[6] )\n",
    "G2.addBiEdge( V[5], V[7] )\n",
    "G2.addBiEdge( V[6], V[9] )\n",
    "G2.addBiEdge( V[7], V[8] )\n",
    "G2.addBiEdge( V[7], V[9] )"
   ]
  },
  {
   "cell_type": "markdown",
   "id": "fb7e28da-8e33-46a3-accf-62416777abc2",
   "metadata": {},
   "source": [
    "### Test results:"
   ]
  },
  {
   "cell_type": "code",
   "execution_count": 7,
   "id": "ba1dd1c8-a79f-4e69-8a72-05234d5c5b8f",
   "metadata": {},
   "outputs": [
    {
     "name": "stdout",
     "output_type": "stream",
     "text": [
      "Path available:\n"
     ]
    },
    {
     "data": {
      "text/plain": [
       "[<labCode.Node at 0x1c65a086650>,\n",
       " <labCode.Node at 0x1c65a0862d0>,\n",
       " <labCode.Node at 0x1c65a0865d0>,\n",
       " <labCode.Node at 0x1c65a086490>,\n",
       " <labCode.Node at 0x1c65a0867d0>]"
      ]
     },
     "execution_count": 7,
     "metadata": {},
     "output_type": "execute_result"
    }
   ],
   "source": [
    "BDS(G0, G0.vertices[0], G0.vertices[9])"
   ]
  },
  {
   "cell_type": "code",
   "execution_count": 8,
   "id": "e99b649b-e7b8-484c-b9d6-a0e7e42ab339",
   "metadata": {},
   "outputs": [
    {
     "name": "stdout",
     "output_type": "stream",
     "text": [
      "Path available:\n"
     ]
    },
    {
     "data": {
      "text/plain": [
       "[<labCode.Node at 0x1c65a087110>,\n",
       " <labCode.Node at 0x1c65a0873d0>,\n",
       " <labCode.Node at 0x1c65a0872d0>,\n",
       " <labCode.Node at 0x1c65a087350>]"
      ]
     },
     "execution_count": 8,
     "metadata": {},
     "output_type": "execute_result"
    }
   ],
   "source": [
    "BDS(G1, G1.vertices[0], G1.vertices[9])"
   ]
  },
  {
   "cell_type": "code",
   "execution_count": 9,
   "id": "d1950eba-9635-42e2-83db-060f7cbb566d",
   "metadata": {},
   "outputs": [
    {
     "data": {
      "text/plain": [
       "'No path available'"
      ]
     },
     "execution_count": 9,
     "metadata": {},
     "output_type": "execute_result"
    }
   ],
   "source": [
    "BDS(G2, G2.vertices[0], G2.vertices[9])"
   ]
  }
 ],
 "metadata": {
  "kernelspec": {
   "display_name": "Python 3 (ipykernel)",
   "language": "python",
   "name": "python3"
  },
  "language_info": {
   "codemirror_mode": {
    "name": "ipython",
    "version": 3
   },
   "file_extension": ".py",
   "mimetype": "text/x-python",
   "name": "python",
   "nbconvert_exporter": "python",
   "pygments_lexer": "ipython3",
   "version": "3.11.4"
  }
 },
 "nbformat": 4,
 "nbformat_minor": 5
}
