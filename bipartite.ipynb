{
 "cells": [
  {
   "cell_type": "markdown",
   "id": "029e1bf7-009d-4bed-8776-15951548d985",
   "metadata": {},
   "source": [
    "### Lab code:"
   ]
  },
  {
   "cell_type": "code",
   "execution_count": 10,
   "id": "f7b3bfb6-e1ca-4c3a-9d13-5d7e75b193f7",
   "metadata": {},
   "outputs": [],
   "source": [
    "from labCode import Node\n",
    "from labCode import Graph"
   ]
  },
  {
   "cell_type": "markdown",
   "id": "d71e9f26-930f-4e29-8f32-8cb374adb9af",
   "metadata": {},
   "source": [
    "### Bipartite evaluation using modified BFS:"
   ]
  },
  {
   "cell_type": "code",
   "execution_count": 11,
   "id": "89d99ccf-fb56-4732-8b2d-6b4862ae6737",
   "metadata": {},
   "outputs": [],
   "source": [
    "def bipartiteEvaluation(w, G):\n",
    "    for v in G.vertices:\n",
    "        v.status = \"unvisited\"\n",
    "        \n",
    "    n = len(G.vertices)\n",
    "    Ls = [ [] for i in range(n) ]\n",
    "    Ls[0] = [w]\n",
    "\n",
    "    w.status = \"visited\"\n",
    "    \n",
    "    for i in range(n):\n",
    "        for u in Ls[i]:\n",
    "            #assign colour when none is present\n",
    "            if (u.colour == None):\n",
    "                u.colour = True\n",
    "            \n",
    "            for v in u.getOutNeighbors():     \n",
    "                #if neighbours share a colour, the graph cannot be bipartite\n",
    "                if v.colour == u.colour:\n",
    "                    return False\n",
    "                \n",
    "                if v.status == \"unvisited\":\n",
    "                    #assign the opposite colour to the neighbour vertex\n",
    "                    v.colour = not u.colour\n",
    "                    v.status = \"visited\"\n",
    "                    Ls[i + 1].append(v)\n",
    "\n",
    "    return True"
   ]
  },
  {
   "cell_type": "markdown",
   "id": "268425c5-51ef-4453-ba79-894d89ef762d",
   "metadata": {},
   "source": [
    "### Test cases:"
   ]
  },
  {
   "cell_type": "code",
   "execution_count": 12,
   "id": "01c240e5-0218-481b-9b83-75d96eb2c1d5",
   "metadata": {},
   "outputs": [],
   "source": [
    "cities = ['Melbourne', 'Sydney', 'Brisbane', 'Perth']"
   ]
  },
  {
   "cell_type": "code",
   "execution_count": 13,
   "id": "ac852fba-14bb-44b8-ae6e-d15da75244ff",
   "metadata": {
    "jp-MarkdownHeadingCollapsed": true
   },
   "outputs": [],
   "source": [
    "bipartite0 = Graph()\n",
    "for i in cities:\n",
    "    bipartite0.addVertex( Node(i) )\n",
    "\n",
    "V = bipartite0.vertices\n",
    "bipartite0.addBiEdge( V[0], V[2] )\n",
    "bipartite0.addBiEdge( V[0], V[3] )\n",
    "bipartite0.addBiEdge( V[1], V[2] )\n",
    "bipartite0.addBiEdge( V[1], V[3] )"
   ]
  },
  {
   "cell_type": "code",
   "execution_count": 14,
   "id": "34bc038d-58d9-4c19-83a4-8ecd8059fb80",
   "metadata": {},
   "outputs": [],
   "source": [
    "bipartite1 = Graph()\n",
    "for i in cities:\n",
    "    bipartite1.addVertex( Node(i) )\n",
    "    \n",
    "V = bipartite1.vertices\n",
    "bipartite1.addBiEdge( V[0], V[2] )\n",
    "bipartite1.addBiEdge( V[0], V[3] )\n",
    "bipartite1.addBiEdge( V[1], V[2] )\n",
    "bipartite1.addBiEdge( V[1], V[3] )"
   ]
  },
  {
   "cell_type": "code",
   "execution_count": 15,
   "id": "8d4f5866-793b-4505-beb3-ea8bf6aa27ff",
   "metadata": {},
   "outputs": [],
   "source": [
    "nonBipartite0 = Graph()\n",
    "for i in cities:\n",
    "    nonBipartite0.addVertex( Node(i) )\n",
    "    \n",
    "V = nonBipartite0.vertices\n",
    "nonBipartite0.addBiEdge( V[0], V[2] )\n",
    "nonBipartite0.addBiEdge( V[0], V[3] )\n",
    "nonBipartite0.addBiEdge( V[0], V[1] )\n",
    "nonBipartite0.addBiEdge( V[1], V[2] )"
   ]
  },
  {
   "cell_type": "code",
   "execution_count": 16,
   "id": "a040730b-c835-4959-9dff-4e9a6a539957",
   "metadata": {},
   "outputs": [],
   "source": [
    "nonBipartite1 = Graph()\n",
    "for i in cities:\n",
    "    nonBipartite1.addVertex( Node(i) )\n",
    "\n",
    "V = nonBipartite1.vertices\n",
    "nonBipartite1.addBiEdge( V[0], V[2] )\n",
    "nonBipartite1.addBiEdge( V[2], V[3] )\n",
    "nonBipartite1.addBiEdge( V[2], V[1] )\n",
    "nonBipartite1.addBiEdge( V[1], V[0] )"
   ]
  },
  {
   "cell_type": "markdown",
   "id": "a8df6edd-06e0-425d-9c4b-e9856881f895",
   "metadata": {},
   "source": [
    "### Test results:"
   ]
  },
  {
   "cell_type": "code",
   "execution_count": 17,
   "id": "e0df8568-63d1-495e-b23b-a95023ce6197",
   "metadata": {
    "scrolled": true
   },
   "outputs": [
    {
     "data": {
      "text/plain": [
       "True"
      ]
     },
     "execution_count": 17,
     "metadata": {},
     "output_type": "execute_result"
    }
   ],
   "source": [
    "bipartiteEvaluation(bipartite0.vertices[0], bipartite0)"
   ]
  },
  {
   "cell_type": "code",
   "execution_count": 18,
   "id": "9d7bff35-c4ea-40a0-9dad-155bf092ac00",
   "metadata": {},
   "outputs": [
    {
     "data": {
      "text/plain": [
       "True"
      ]
     },
     "execution_count": 18,
     "metadata": {},
     "output_type": "execute_result"
    }
   ],
   "source": [
    "bipartiteEvaluation(bipartite1.vertices[0], bipartite1)"
   ]
  },
  {
   "cell_type": "code",
   "execution_count": 19,
   "id": "e91d3336-dd81-480e-a692-9dd13576f0ad",
   "metadata": {},
   "outputs": [
    {
     "data": {
      "text/plain": [
       "False"
      ]
     },
     "execution_count": 19,
     "metadata": {},
     "output_type": "execute_result"
    }
   ],
   "source": [
    "bipartiteEvaluation(nonBipartite0.vertices[0], nonBipartite0)"
   ]
  },
  {
   "cell_type": "code",
   "execution_count": 20,
   "id": "33ff026a-7bbd-4570-91f2-f94e50166dda",
   "metadata": {},
   "outputs": [
    {
     "data": {
      "text/plain": [
       "False"
      ]
     },
     "execution_count": 20,
     "metadata": {},
     "output_type": "execute_result"
    }
   ],
   "source": [
    "bipartiteEvaluation(nonBipartite1.vertices[0], nonBipartite1)"
   ]
  }
 ],
 "metadata": {
  "kernelspec": {
   "display_name": "Python 3 (ipykernel)",
   "language": "python",
   "name": "python3"
  },
  "language_info": {
   "codemirror_mode": {
    "name": "ipython",
    "version": 3
   },
   "file_extension": ".py",
   "mimetype": "text/x-python",
   "name": "python",
   "nbconvert_exporter": "python",
   "pygments_lexer": "ipython3",
   "version": "3.11.4"
  }
 },
 "nbformat": 4,
 "nbformat_minor": 5
}
