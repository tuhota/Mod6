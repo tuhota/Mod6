{
 "cells": [
  {
   "cell_type": "markdown",
   "id": "ccfc4085-5781-45e2-93b5-1a05d9968bb7",
   "metadata": {},
   "source": [
    "### Lab code:"
   ]
  },
  {
   "cell_type": "code",
   "execution_count": 1,
   "id": "b2570bdf-dd54-486f-b4f5-94eaafb8a1ac",
   "metadata": {},
   "outputs": [],
   "source": [
    "from labCode import Node\n",
    "from labCode import Graph\n",
    "from labCode import DFS"
   ]
  },
  {
   "cell_type": "markdown",
   "id": "9420a44c-dc6f-4e88-b73c-d92cf18978fb",
   "metadata": {},
   "source": [
    "### Algorithm to find strongly connected components:"
   ]
  },
  {
   "cell_type": "code",
   "execution_count": 2,
   "id": "2fe57fc5-b0bc-46ca-a99e-5ff951920e47",
   "metadata": {},
   "outputs": [],
   "source": [
    "def SCC(G):\n",
    "    #initialise time\n",
    "    currentTime = 1\n",
    "\n",
    "    #force DFS on all vertices\n",
    "    for v in G.vertices:\n",
    "        if v.status == \"unvisited\":\n",
    "            currentTime = DFS(v, currentTime, [])\n",
    "\n",
    "    #reverse all edges in G\n",
    "    for v in G.vertices:\n",
    "        for w in v.getOutNeighbors():\n",
    "            G.reverseEdge(v, w)\n",
    "\n",
    "    #turn finishing times into downPriority, descending order outTime\n",
    "    finishingTimes = dict()\n",
    "    for v in G.vertices:\n",
    "        finishingTimes.update({v: v.outTime})\n",
    "    \n",
    "    finishingTimes = sorted(finishingTimes.items(), key=lambda x:x[1]) \n",
    "    \n",
    "    downPriority = list()\n",
    "    for i in range(len(finishingTimes)):\n",
    "        downPriority.append(finishingTimes[i][0])\n",
    "        \n",
    "    downPriority.reverse()\n",
    "\n",
    "    #reset all nodes and time\n",
    "    for v in downPriority:\n",
    "        v.status = \"unvisited\"\n",
    "    currentTime = 1\n",
    "\n",
    "    #list of SCCs\n",
    "    SCCs = list()\n",
    "\n",
    "    #perform search on highest priority unvisited first\n",
    "    for v in downPriority:\n",
    "        if v.status == \"unvisited\":\n",
    "            ordering = list()\n",
    "            currentTime = DFS(v, currentTime, ordering) \n",
    "            SCCs.append(ordering)\n",
    "\n",
    "    return SCCs"
   ]
  },
  {
   "cell_type": "markdown",
   "id": "8114f4ef-5e55-420e-864f-7778f698f6d0",
   "metadata": {},
   "source": [
    "### Driver code:"
   ]
  },
  {
   "cell_type": "code",
   "execution_count": 3,
   "id": "62d88052-5d9f-46dd-868f-7b963a20215c",
   "metadata": {
    "scrolled": true
   },
   "outputs": [],
   "source": [
    "stanford = Node(\"Stanford\")\n",
    "wiki = Node(\"Wikipedia\")\n",
    "nytimes = Node(\"NYTimes\")\n",
    "cal = Node(\"Berkeley\")\n",
    "puppies = Node(\"Puppies\")\n",
    "google = Node(\"Google\")\n",
    "\n",
    "G = Graph()\n",
    "V = [ stanford, wiki, nytimes, cal, puppies, google ]\n",
    "for v in V:\n",
    "    G.addVertex(v)\n",
    "    \n",
    "E = [ (stanford, wiki), (stanford, puppies), (wiki, stanford), (wiki, nytimes), (nytimes, stanford), (cal, stanford), (cal, puppies), (wiki,puppies), (nytimes, puppies), (puppies, google), (google, puppies) ]\n",
    "for x,y in E:\n",
    "    G.addDiEdge( x,y )"
   ]
  },
  {
   "cell_type": "code",
   "execution_count": 4,
   "id": "da650131-f100-4094-ba78-eb4e11034148",
   "metadata": {
    "scrolled": true
   },
   "outputs": [
    {
     "name": "stdout",
     "output_type": "stream",
     "text": [
      "['Berkeley', 'Puppies', 'Google']\n",
      "['Stanford', 'Wikipedia', 'NYTimes']\n"
     ]
    }
   ],
   "source": [
    "SCCs = SCC(G)\n",
    "for X in SCCs:\n",
    "    print ([str(x) for x in X])"
   ]
  }
 ],
 "metadata": {
  "kernelspec": {
   "display_name": "Python 3 (ipykernel)",
   "language": "python",
   "name": "python3"
  },
  "language_info": {
   "codemirror_mode": {
    "name": "ipython",
    "version": 3
   },
   "file_extension": ".py",
   "mimetype": "text/x-python",
   "name": "python",
   "nbconvert_exporter": "python",
   "pygments_lexer": "ipython3",
   "version": "3.11.4"
  }
 },
 "nbformat": 4,
 "nbformat_minor": 5
}
